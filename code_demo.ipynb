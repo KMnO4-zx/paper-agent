{
 "cells": [
  {
   "cell_type": "code",
   "execution_count": 1,
   "metadata": {},
   "outputs": [],
   "source": [
    "from src.llm import get_response_from_llm\n",
    "from src.generate_idea import generation_idea_code\n",
    "from src.prompt import coder_prompt\n",
    "from openai import OpenAI\n",
    "import os.path as osp\n",
    "import os, json"
   ]
  },
  {
   "cell_type": "code",
   "execution_count": 2,
   "metadata": {},
   "outputs": [],
   "source": [
    "# gpt-4o\n",
    "openai_model = \"gpt-4o-2024-08-06\"\n",
    "openai_client = OpenAI(api_key=os.getenv(\"OPENAI_API_KEY\"), base_url=os.getenv(\"OPENAI_BASE_URL\"))\n",
    "\n",
    "base_dir = './generation_idea_template/small_object_attention/'"
   ]
  },
  {
   "cell_type": "code",
   "execution_count": 3,
   "metadata": {},
   "outputs": [
    {
     "data": {
      "text/plain": [
       "('Hello! How can I assist you today?',\n",
       " [{'role': 'user', 'content': 'Hello'},\n",
       "  {'role': 'assistant', 'content': 'Hello! How can I assist you today?'}])"
      ]
     },
     "execution_count": 3,
     "metadata": {},
     "output_type": "execute_result"
    }
   ],
   "source": [
    "get_response_from_llm(msg=\"Hello\", client=openai_client, model=openai_model)"
   ]
  },
  {
   "cell_type": "code",
   "execution_count": 4,
   "metadata": {},
   "outputs": [
    {
     "name": "stdout",
     "output_type": "stream",
     "text": [
      "\n",
      "Start: Code generated for idea: dual_attention_integration\n",
      "Iteration 2/5\n",
      "Code generation converged after 2 iterations.\n",
      "Done: Code generated for idea: dual_attention_integration\n",
      "\n",
      "Start: Code generated for idea: temporal_attention_fusion\n"
     ]
    }
   ],
   "source": [
    "generation_idea_code(base_dir=base_dir, client=openai_client, model=openai_model)"
   ]
  },
  {
   "cell_type": "code",
   "execution_count": null,
   "metadata": {},
   "outputs": [],
   "source": []
  }
 ],
 "metadata": {
  "kernelspec": {
   "display_name": "nlp",
   "language": "python",
   "name": "python3"
  },
  "language_info": {
   "codemirror_mode": {
    "name": "ipython",
    "version": 3
   },
   "file_extension": ".py",
   "mimetype": "text/x-python",
   "name": "python",
   "nbconvert_exporter": "python",
   "pygments_lexer": "ipython3",
   "version": "3.10.13"
  }
 },
 "nbformat": 4,
 "nbformat_minor": 2
}
