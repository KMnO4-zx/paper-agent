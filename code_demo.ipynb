{
 "cells": [
  {
   "cell_type": "code",
   "execution_count": 2,
   "metadata": {},
   "outputs": [],
   "source": [
    "from src.llm import get_response_from_llm\n",
    "from src.generate_idea import generation_idea_code\n",
    "from src.prompt import coder_prompt\n",
    "from openai import OpenAI\n",
    "import os.path as osp\n",
    "import os, json"
   ]
  },
  {
   "cell_type": "code",
   "execution_count": 3,
   "metadata": {},
   "outputs": [],
   "source": [
    "# gpt-4o\n",
    "openai_model = \"gpt-4o-2024-08-06\"\n",
    "openai_client = OpenAI(api_key=os.getenv(\"OPENAI_API_KEY\"), base_url=os.getenv(\"OPENAI_BASE_URL\"))\n",
    "\n",
    "base_dir = './generation_idea_template/small_object_attention/'"
   ]
  },
  {
   "cell_type": "code",
   "execution_count": 4,
   "metadata": {},
   "outputs": [
    {
     "data": {
      "text/plain": [
       "('Hello! How can I assist you today?',\n",
       " [{'role': 'user', 'content': 'Hello'},\n",
       "  {'role': 'assistant', 'content': 'Hello! How can I assist you today?'}])"
      ]
     },
     "execution_count": 4,
     "metadata": {},
     "output_type": "execute_result"
    }
   ],
   "source": [
    "get_response_from_llm(msg=\"Hello\", client=openai_client, model=openai_model)"
   ]
  },
  {
   "cell_type": "code",
   "execution_count": 5,
   "metadata": {},
   "outputs": [
    {
     "name": "stdout",
     "output_type": "stream",
     "text": [
      "Code generated for idea: temporal_attention_fusion\n",
      "Code generated for idea: self_supervised_pretraining\n",
      "Code generated for idea: adversarial_robustness_training\n",
      "Code generated for idea: dynamic_attention_selection\n",
      "Code generated for idea: meta_learning_integration\n",
      "Code generated for idea: contrastive_learning_integration\n",
      "Code generated for idea: dynamic_data_transformation\n",
      "Code generated for idea: optimized_ensemble_attention\n",
      "Code generated for idea: pruned_attention\n",
      "Code generated for idea: hierarchical_attention_scaling\n",
      "Code generated for idea: adaptive_complexity_attention\n",
      "Code generated for idea: uncertainty_guided_attention\n",
      "Code generated for idea: quality_adaptive_attention\n",
      "Code generated for idea: task_adaptive_attention\n"
     ]
    }
   ],
   "source": [
    "generation_idea_code(base_dir=base_dir, client=openai_client, model=openai_model)"
   ]
  }
 ],
 "metadata": {
  "kernelspec": {
   "display_name": "nlp",
   "language": "python",
   "name": "python3"
  },
  "language_info": {
   "codemirror_mode": {
    "name": "ipython",
    "version": 3
   },
   "file_extension": ".py",
   "mimetype": "text/x-python",
   "name": "python",
   "nbconvert_exporter": "python",
   "pygments_lexer": "ipython3",
   "version": "3.10.13"
  }
 },
 "nbformat": 4,
 "nbformat_minor": 2
}
